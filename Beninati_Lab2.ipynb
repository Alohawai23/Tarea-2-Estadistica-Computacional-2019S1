{
 "cells": [
  {
   "cell_type": "markdown",
   "metadata": {},
   "source": [
    "<table style=\"width:100%\">\n",
    "  <tr>\n",
    "    <th align=\"right\"><img src=\"img/dilogo.png\" style=\"float:left;height:90px\"></th>\n",
    "    <th align=\"center\">\n",
    "    <h1 align=\"center\">Laboratorio 2</h1>\n",
    "    <h2 align=\"center\">Profesor: Ricardo Ñanculef</h2>\n",
    "    <h3 align=\"center\">Ayudante: Gabriel Ortega</h3>\n",
    "    <h3 align=\"center\">Gianni Beninati;201773508-2;7313</h3>\n",
    "    <h3 align=\"center\">Abril 2019</h3>\n",
    "    </th> \n",
    "    <th align=\"left\"><img src=\"img/usmlogo.png\" style=\"float:right;height:85px\"></th>\n",
    "  </tr>"
   ]
  },
  {
   "cell_type": "markdown",
   "metadata": {},
   "source": [
    "## Instrucciones\n",
    "\n",
    "La modalidad de trabajo será mediante el uso de jupyter notebook. El notebook debe ser desarrollado en parejas o individual. Este laboratorio debe ser entregado el día 3 de Mayo.\n",
    "\n",
    "La **modalidad de entrega será un archivo Apellido1_Apellido2_Lab2.zip** que contenga un notebook que incluya todas las preguntas con sus respectivas respuestas + un README que indique la forma correcta de ejecutar su notebook. El laboratorio puede ser trabajado tanto en lenguaje R como en lenguaje python (para los que usen python 2.X, absténganse a las consecuencias). Lea bien el enunciado.\n",
    "\n",
    "\n",
    "**Cualquier copia detectada implicará nota 0 en el laboratorio correspondiente y se notificará la situación al profesor.**\n"
   ]
  },
  {
   "cell_type": "markdown",
   "metadata": {},
   "source": [
    "---\n",
    "**Esto es solo una sugerencia y no tendrá ningún impacto en su nota**\n",
    "\n",
    "## Tip para Gráficos (Python)\n",
    "\n",
    "Puede hacer sus gráficos un poco más estilosos utilizando la libreria seaborn\n",
    "\n",
    "```python\n",
    "import matplotlib.pyplot as plt\n",
    "import seaborn as sns\n",
    "sns.set()\n",
    "%matplotlib inline #con esto no es necesario hacer plt.show()\n",
    "```\n",
    "\n",
    "El uso es igual que un gráfico de matplotlib, solo que ```sns.set()``` hace que se cargue la visualización de seaborn encima. [Informacion sobre seaborn.set()](https://seaborn.pydata.org/generated/seaborn.set.html)\n",
    "\n",
    "## Tip para Gráficos (R)\n",
    "\n",
    "Puede hacer sus gráficos un poco más estilosos utilizando la libreria [ggplot2](https://www.statmethods.net/advgraphs/ggplot2.html)\n",
    "\n",
    "\n",
    "## Interactive Widgets\n",
    "\n",
    "Si usted está trabajando en python puede hacer una widget interactiva que varíe los parámetros de una función, como se puede ver en el siguiente fragmento de código (debe ejecutarlo)."
   ]
  },
  {
   "cell_type": "code",
   "execution_count": 44,
   "metadata": {},
   "outputs": [
    {
     "data": {
      "application/vnd.jupyter.widget-view+json": {
       "model_id": "856adabd684b4087921629e7bac57dad",
       "version_major": 2,
       "version_minor": 0
      },
      "text/plain": [
       "interactive(children=(IntSlider(value=11, description='x', max=20, min=2), Output()), _dom_classes=('widget-in…"
      ]
     },
     "metadata": {},
     "output_type": "display_data"
    },
    {
     "data": {
      "text/plain": [
       "<function __main__.plot_serie(x)>"
      ]
     },
     "execution_count": 44,
     "metadata": {},
     "output_type": "execute_result"
    }
   ],
   "source": [
    "from ipywidgets import interact \n",
    "import matplotlib.pyplot as plt\n",
    "import seaborn as sns\n",
    "import numpy as np\n",
    "sns.set()\n",
    "%matplotlib inline \n",
    "\n",
    "def plot_serie(x):\n",
    "    values = np.arange(1,x,0.5)**2\n",
    "    values2 = np.arange(1,x,0.5)**3\n",
    "    print(values)\n",
    "    print(values2)\n",
    "    plt.xlabel(\"X\")\n",
    "    plt.ylabel(\"Y\")\n",
    "    plt.plot(values/values2)\n",
    "        \n",
    "\n",
    "interact(plot_serie,x=(2,20))"
   ]
  },
  {
   "cell_type": "markdown",
   "metadata": {},
   "source": [
    "---\n",
    "## 1. Retención de Clientes\n",
    "\n",
    "La fuga (*churn*, término en inglés) de clientes es algo que muchas empresas de hoy en día sufren, la fuga puede deberse a muchos factores, uno de estos podría ser alguna característica del servicio en sí que provee la empresa. En esta sección usted trabajará con un dataset de \"Telco\", una empresa de telecomunicaciones, donde verá varios datos relacionados al plan de los clientes, uno de estos campos siendo \"*Churn*\", si el cliente se fugó o no. \n",
    "\n",
    "El archivo a utilizar es \"churn.csv\" y para información extra puede referirse a [este enlace](https://www.kaggle.com/blastchar/telco-customer-churn)\n",
    "\n",
    ">a) Haga un análisis exploratorio **a su criterio** del dataset y extraiga 3 conclusiones acerca del conjunto de datos"
   ]
  },
  {
   "cell_type": "markdown",
   "metadata": {},
   "source": [
    "### Código Pregunta 1.a"
   ]
  },
  {
   "cell_type": "code",
   "execution_count": 45,
   "metadata": {},
   "outputs": [],
   "source": [
    "import csv\n",
    "\n",
    "#Se utiliza para evitar agregar el primer dato, pues este es la descripcion de cada columna y no es un dato como tal\n",
    "flag = False\n",
    "#Se crean listas para almacenar las columnas de interes\n",
    "gender = []\n",
    "tenure = []\n",
    "internet_service = []\n",
    "monthly_charge = []\n",
    "churn = []\n",
    "#Se guardan las columnas del archivo en las listas respectivas\n",
    "with open('churn.csv') as csvfile:\n",
    "    registros = csv.reader(csvfile, delimiter=',')\n",
    "    for registro in registros:\n",
    "        if flag:\n",
    "            gender.append(registro[1])\n",
    "            tenure.append(int(registro[5]))\n",
    "            internet_service.append(registro[8])\n",
    "            monthly_charge.append(float(registro[18]))\n",
    "            churn.append(registro[20])\n",
    "        flag = True"
   ]
  },
  {
   "cell_type": "code",
   "execution_count": 46,
   "metadata": {},
   "outputs": [
    {
     "name": "stdout",
     "output_type": "stream",
     "text": [
      "El 26.920871559633024 de la mujeres se fugaron ( 939 mujeres fugadas de 3488 mujeres totales)\n",
      "El 26.160337552742618 de los hombres se fugaron ( 930 hombres fugados de 3555 hombres totales)\n"
     ]
    },
    {
     "data": {
      "image/png": "[encoded data removed]",
      "text/plain": [
       "<Figure size 432x288 with 1 Axes>"
      ]
     },
     "metadata": {
      "needs_background": "light"
     },
     "output_type": "display_data"
    }
   ],
   "source": [
    "import numpy as np\n",
    "import matplotlib.pyplot as plt\n",
    "import seaborn as sns\n",
    "sns.set()\n",
    "%matplotlib inline\n",
    "\n",
    "#Se calcula la cantidad de mujeres y hombres que se fugaron para realizar un grafico de barras y obtener conclusiones al respoecto\n",
    "i = 0\n",
    "mujeres_fugadas = 0\n",
    "mujeres_Nofugadas = 0\n",
    "hombres_fugados = 0\n",
    "hombres_Nofugados = 0\n",
    "n = len(gender)\n",
    "while i < n:\n",
    "    if gender[i] == 'Female':\n",
    "        if churn[i] == 'Yes':\n",
    "            mujeres_fugadas += 1\n",
    "        else:\n",
    "            mujeres_Nofugadas += 1\n",
    "    else:\n",
    "        if churn[i] == 'Yes':\n",
    "            hombres_fugados += 1\n",
    "        else:\n",
    "            hombres_Nofugados += 1 \n",
    "    i+=1\n",
    "\n",
    "total_mujeres = mujeres_fugadas + mujeres_Nofugadas\n",
    "total_hombres = hombres_fugados + hombres_Nofugados\n",
    "\n",
    "\n",
    "#Se crea el grafico de barras\n",
    "Mujeres = (mujeres_fugadas,mujeres_Nofugadas)\n",
    "Hombres = (hombres_fugados,hombres_Nofugados)\n",
    "\n",
    "fig, ax = plt.subplots()\n",
    "index = np.arange(2)\n",
    " \n",
    "plt.bar(index, Mujeres,0.35,color='b',label='Mujeres')\n",
    " \n",
    "plt.bar(index + 0.35, Hombres,0.35,color='r',label='Hombres')\n",
    " \n",
    "plt.ylabel('Cantidad de Personas')\n",
    "plt.title('Gráfico 1')\n",
    "plt.xticks(index + 0.35, ('Fuga', 'No Fuga'))\n",
    "plt.legend() \n",
    "plt.tight_layout()\n",
    "\n",
    "print(\"El\", (mujeres_fugadas/total_mujeres)*100,\"de la mujeres se fugaron (\",mujeres_fugadas, \"mujeres fugadas de\", total_mujeres,\"mujeres totales)\")\n",
    "print(\"El\", (hombres_fugados/total_hombres)*100,\"de los hombres se fugaron (\",hombres_fugados, \"hombres fugados de\", total_hombres,\"hombres totales)\")"
   ]
  },
  {
   "cell_type": "code",
   "execution_count": 49,
   "metadata": {},
   "outputs": [
    {
     "name": "stdout",
     "output_type": "stream",
     "text": [
      "El 44.52408256880734 de la mujeres prefieren fibra óptica ( 1553 mujeres con fibra óptica de 3488 mujeres totales)\n",
      "El 43.40365682137834 de los hombres prefieren fibra óptica ( 1543 hombres con fibra óptica 3555 hombres totales)\n"
     ]
    },
    {
     "data": {
      "image/png": "[encoded data removed]",
      "text/plain": [
       "<Figure size 432x288 with 1 Axes>"
      ]
     },
     "metadata": {
      "needs_background": "light"
     },
     "output_type": "display_data"
    }
   ],
   "source": [
    "#Se calcula la cantidad de mujeres y hombres que se con fibra para realizar un grafico de barras y obtener conclusiones al respoecto\n",
    "i = 0\n",
    "n = len(gender)\n",
    "#Variable que guardara la cantidad de mujeres con fibra\n",
    "mujeres_fibra = 0\n",
    "#Variable que guardara la cantidad de mujeres sin fibra\n",
    "mujeres_Sinfibra = 0\n",
    "#Variable que guardara la cantidad de hombres con fibra\n",
    "hombres_fibra = 0\n",
    "#Variable que guardara la cantidad de hombres sin fibra\n",
    "hombres_Sinfibra = 0\n",
    "#Variable que guardara la cantidad total de personas con fibra\n",
    "fibra = 0\n",
    "\n",
    "while i < n:\n",
    "    if gender[i] == 'Female':\n",
    "        if internet_service[i] == 'Fiber optic':\n",
    "            mujeres_fibra += 1\n",
    "            fibra += 1\n",
    "        else:\n",
    "            mujeres_Sinfibra += 1\n",
    "    else:\n",
    "        if internet_service[i] == 'Fiber optic':\n",
    "            hombres_fibra += 1\n",
    "            fibra += 1\n",
    "        else:\n",
    "            hombres_Sinfibra += 1 \n",
    "    i+=1\n",
    "#Se realiza el grafico de barras de manera similar al caso anterior\n",
    "Mujeres_Fibra = (mujeres_fibra,mujeres_Sinfibra)\n",
    "Hombres_Fibra = (hombres_fibra,hombres_Sinfibra)\n",
    "\n",
    "fig, ax = plt.subplots()\n",
    "index = np.arange(2)\n",
    " \n",
    "plt.bar(index, Mujeres,0.35,color='b',label='Mujeres')\n",
    " \n",
    "plt.bar(index + 0.35, Hombres,0.35,color='r',label='Hombres')\n",
    " \n",
    "plt.ylabel('Cantidad de Personas')\n",
    "plt.title('Gráfico 2')\n",
    "plt.xticks(index + 0.35, ('Con fibra óptica', 'Sin fibra óptica'))\n",
    "plt.legend() \n",
    "plt.tight_layout()\n",
    "\n",
    "print(\"El\", (mujeres_fibra/total_mujeres)*100,\"de la mujeres prefieren fibra óptica (\",mujeres_fibra, \"mujeres con fibra óptica de\", total_mujeres,\"mujeres totales)\")\n",
    "print(\"El\", (hombres_fibra/total_hombres)*100,\"de los hombres prefieren fibra óptica (\",hombres_fibra, \"hombres con fibra óptica\", total_hombres,\"hombres totales)\")"
   ]
  },
  {
   "cell_type": "code",
   "execution_count": 50,
   "metadata": {
    "scrolled": true
   },
   "outputs": [
    {
     "data": {
      "image/png": "[encoded data removed]",
      "text/plain": [
       "<Figure size 432x288 with 1 Axes>"
      ]
     },
     "metadata": {
      "needs_background": "light"
     },
     "output_type": "display_data"
    }
   ],
   "source": [
    "i = 0\n",
    "#Listas que guardan los cargos de los hombres y mujeres respectivamente\n",
    "cargo_hombres = []\n",
    "cargo_mujeres = []\n",
    "\n",
    "while i < n:\n",
    "    if gender[i] == 'Female':\n",
    "        cargo_mujeres.append(monthly_charge[i])\n",
    "    else:\n",
    "        cargo_hombres.append(monthly_charge[i])\n",
    "    i += 1\n",
    "\n",
    "#Se crea un Boxplot acerca del cargo mensual de los hombres y de las mujeres\n",
    "plt.boxplot([cargo_hombres,cargo_mujeres])\n",
    "plt.title('Gráfico 3')\n",
    "plt.xlabel('1: Cargos mensuales hombres\\n2:Cargos mensuales mujeres')\n",
    "plt.show()"
   ]
  },
  {
   "cell_type": "markdown",
   "metadata": {},
   "source": [
    "### Respuesta pregunta 1.a\n",
    "El primer análisis de los datos a realizar es si el sexo del cliente influye en la existencia de fuga o no. Con el fin de lograr esto se creó el “Gráfico 1”, en el cual se aprecian la cantidad de hombres y mujeres que se fugaron, así como también se puede observar la cantidad de hombres y mujeres que no lo hicieron. Al analizar el gráfico es posible notar que no existe prácticamente ninguna diferencia entre los hombres y mujeres fugados, así como también en los no fugados. Por otro lado, también existe similitud en la cantidad total de hombres y de mujeres (3555 hombres y 3488 mujeres), en donde, un 26% aproximadamente en cada caso se fuga, teniendo 930 hombres fugados y 939 mujeres fugadas, en ambos casos, cantidades muy similares, por lo que se puede concluir que el sexo del cliente no influye en la fuga del cliente.\n",
    "\n",
    "En cuanto al segundo análisis, se intentará deducir si existe alguna preferencia de fibra óptica dependiendo del sexo del cliente. Al igual que en el primer caso, también se realizó un gráfico de barras (Gráfico 2), en el que tampoco existe prácticamente diferencias entre ambos sexos. En este caso un 43% de los hombres aproximadamente prefieren fibra óptica y un 45% de las mujeres prefieren también fibra óptica, obteniendo un resultado de 1543 hombres y 1553 mujeres, cantidades nuevamente similares, lo que se aprecia también en las barras del gráfico. Por lo tanto, se puede concluir que el sexo tampoco influye en la preferencia de fibra óptica, y en general los clientes tienden a preferir otros servicios en vez del de fibra óptica.\n",
    "\n",
    "Finalmente, en cuanto al tercer análisis, se buscó comparar los cargos mensuales entre los hombres y las mujeres.  Para realizar esto, se creó un diagrama de cajón con bigote para cada sexo con respecto a sus cargos mensuales que se puede apreciar en el “Gráfico 3”. Curiosamente ambos diagramas son prácticamente idénticos en donde, el 50% de los clientes (hombre o mujer) pagan un cargo mensual entre 38 y 90 dólares aproximadamente y un 50% de los clientes, pagan menos de 70 dólares por mes aproximadamente. También es posible notar un leve sesgo negativo, por lo que se tiende a tener gastos mensuales mayores a 60 dólares y no existen “outliers” en ninguno de los 2 casos."
   ]
  },
  {
   "cell_type": "markdown",
   "metadata": {},
   "source": [
    "> b.1) Determine la probabilidad de que: <ul>\n",
    "    <li>Un cliente sea mujer dado que tiene fibra óptica </li>\n",
    "    <li>Un cliente sea hombre dado que tiene fibra óptica</li>\n",
    "    <li>Un cliente sea mujer dado que no tiene fibra óptica</li>\n",
    "    <li>Un cliente sea hombre dado que no tiene fibra óptica</li>\n",
    "    </ul>\n",
    "    Además indique cuál/es de estos pares deben sumar 1 (Si es que algún par debe sumar esta cantidad). Justifique su respuesta.\n",
    "    "
   ]
  },
  {
   "cell_type": "markdown",
   "metadata": {},
   "source": [
    "### Código Pregunta 1.b"
   ]
  },
  {
   "cell_type": "code",
   "execution_count": 51,
   "metadata": {},
   "outputs": [
    {
     "name": "stdout",
     "output_type": "stream",
     "text": [
      "La probabilidad de que un cliente sea mujer dado que tiene fibra óptica es: 0.5016149870801033\n",
      "La probabilidad de que un cliente sea hombre dado que tiene fibra óptica es: 0.4983850129198967\n",
      "La probabilidad de que un cliente sea mujer dado que no tiene fibra óptica es: 0.49024575627058525\n",
      "La probabilidad de que un cliente sea hombre dado que no tiene fibra óptica es: 0.5097542437294148\n"
     ]
    }
   ],
   "source": [
    "#Se calculan las probabilidades condicionadas utilizando la formula vista em clases\n",
    "prob_mujer_fibra = (mujeres_fibra/n)/(fibra/n)\n",
    "prob_mujer_Sinfibra = (mujeres_Sinfibra/n)/(1 - fibra/n)\n",
    "prob_hombre_fibra = (hombres_fibra/n)/(fibra/n)\n",
    "prob_hombre_Sinfibra = (hombres_Sinfibra/n)/(1 - fibra/n)\n",
    "\n",
    "print('La probabilidad de que un cliente sea mujer dado que tiene fibra óptica es:',prob_mujer_fibra)\n",
    "print('La probabilidad de que un cliente sea hombre dado que tiene fibra óptica es:', prob_hombre_fibra)\n",
    "print('La probabilidad de que un cliente sea mujer dado que no tiene fibra óptica es:', prob_mujer_Sinfibra)\n",
    "print('La probabilidad de que un cliente sea hombre dado que no tiene fibra óptica es:', prob_hombre_Sinfibra)"
   ]
  },
  {
   "cell_type": "markdown",
   "metadata": {},
   "source": [
    "### Respuesta pregunta 1.b1\n",
    "Aquellas probabilidades que deben sumar 1 corresponden a la probabilidad de que un cliente sea mujer dado que tiene fibra con la probabilidad de que un cliente sea hombre dado que tiene fibra óptica, por un lado, y la probabilidad de que un cliente sea mujer dado que no tiene fibra óptica con la probabilidad de que un cliente sea hombre dado que no tiene fibra óptica, por el otro lado.\n",
    "\n",
    "Para calcularlas se utilizaron las siguientes fórmulas de probabilidad condicional en el orden respectivo de la pregunta:\n",
    "\n",
    "<img src=\"img/mujer_fibra.png\">\n",
    "<img src=\"img/hombreF.png\">\n",
    "<img src=\"img/mujer_Sinfibra.png\">\n",
    "<img src=\"img/hombre_Sinfibra.png\">\n",
    "\n",
    "En donde:\n",
    "\n",
    "<h2 align=\"center\">M: El cliente es mujer</h2>\n",
    "<h2 align=\"center\">F: El cliente tiene fibra óptica</h2>"
   ]
  },
  {
   "cell_type": "markdown",
   "metadata": {},
   "source": [
    ">b.2) ¿Es posible concluir que si un cliente es hombre tiene más probabilidad de tener fibra óptica? ¿Y si es mujer? ¿Por qué?"
   ]
  },
  {
   "cell_type": "markdown",
   "metadata": {},
   "source": [
    "### Respuesta pregunta 1.b2\n",
    "No es posible concluir que si un cliente es hombre tiene más probabilidad de que tenga fibra, ni que si un cliente es mujer tiene mas probabilidad de tener fibra, pues ambas probabilidades son prácticamente similares, al igual que la cantidad de hombres y mujeres que tienen y no tienen fibra, por lo que no hay una diferencia significativa entre ambos."
   ]
  },
  {
   "cell_type": "markdown",
   "metadata": {},
   "source": [
    ">c) Utilizando criterios de probabilidad condicional ¿Hay algún servicio de internet más propenso a la fuga?"
   ]
  },
  {
   "cell_type": "markdown",
   "metadata": {},
   "source": [
    "### Código Pregunta 1.c"
   ]
  },
  {
   "cell_type": "code",
   "execution_count": 52,
   "metadata": {},
   "outputs": [
    {
     "name": "stdout",
     "output_type": "stream",
     "text": [
      "La probabilidad de que haya fuga dado que un cliente tiene fibra óptica es: 0.4189276485788114\n",
      "La probabilidad de que haya fuga dado que un cliente tiene DSL es: 0.18959107806691447\n",
      "La probabilidad de que haya fuga dado que un cliente no tiene ningún servicio de internet es: 0.07404980340760157\n"
     ]
    }
   ],
   "source": [
    "i = 0\n",
    "n = len(gender)\n",
    "#Variable que guardara la cantidad de personas que se fugaron y tienen fibra\n",
    "fugados_fibra = 0\n",
    "#Variable que guardara la cantidad de personas que se fugaron y tienen DSL\n",
    "fugados_DSL = 0\n",
    "#Variable que guardara la cantidad de personas que se fugaron y no tienen ningun servicio\n",
    "fugados_no = 0\n",
    "#Variable que guardara la cantidad de personas que se fugaron\n",
    "fugados = churn.count('Yes')\n",
    "#Variable que guardara la cantidad de personas que tienen fibra\n",
    "fibra = internet_service.count('Fiber optic')\n",
    "#Variable que guardara la cantidad de personas tienen DSL\n",
    "DSL = internet_service.count('DSL')\n",
    "#Variable que guardara la cantidad de personas que no tienen ningun servicio de internet\n",
    "Sin_servicio = internet_service.count('No')\n",
    "\n",
    "while i < n:\n",
    "    if churn[i] == 'Yes':\n",
    "        if internet_service[i] == 'DSL':\n",
    "            fugados_DSL += 1\n",
    "        elif internet_service[i] == 'No':\n",
    "            fugados_no += 1\n",
    "        else:\n",
    "            fugados_fibra += 1\n",
    "    i+=1\n",
    "\n",
    "#Se calculan las probabilidades de que haya fuga dado que se tiene el servicio \"x\"\n",
    "prob_fuga_fibra = (fugados_fibra/n)/(fibra/n)\n",
    "prob_fuga_DSL = (fugados_DSL/n)/(DSL/n)\n",
    "prob_fuga_no = (fugados_no/n)/(Sin_servicio/n)\n",
    "\n",
    "print('La probabilidad de que haya fuga dado que un cliente tiene fibra óptica es:', prob_fuga_fibra)\n",
    "print('La probabilidad de que haya fuga dado que un cliente tiene DSL es:', prob_fuga_DSL)\n",
    "print('La probabilidad de que haya fuga dado que un cliente no tiene ningún servicio de internet es:', prob_fuga_no)"
   ]
  },
  {
   "cell_type": "markdown",
   "metadata": {},
   "source": [
    "### Respuesta pregunta 1.c\n",
    "Para obtener los resultados, se utilizaron nuevamente las fórmulas de probabilidad condicional, pero en este caso, las variables utilizadas fueron: \"El cliente se fugó\", \"El cliente tiene fibra óptica\", \"El cliente tiene DSL\" y \"El cliente no tiene ningún servicio de internet\".\n",
    "\n",
    "Si existe un servicio de internet más propenso a la fuga, y este corresponde al servicio de fibra óptica, pues la probabilidad de que haya fuga dado que un cliente utiliza ese servicio es de 0.419 aproximadamente, superando ampliamente a la probabilidad del resto de los servicios (probabilidad de 0.190 de fuga dado que tiene DSL y probabilidad de 0.074 de fuga dado que el cliente no tiene servicio de internet)."
   ]
  },
  {
   "cell_type": "markdown",
   "metadata": {},
   "source": [
    ">d) Utilizando criterios de probabilidad condicional, ¿es el cargo mensual un buen predictor de la fuga? y ¿es la fuga un buen predictor del cargo mensual de un cliente?"
   ]
  },
  {
   "cell_type": "markdown",
   "metadata": {},
   "source": [
    "### Código Pregunta 1.d"
   ]
  },
  {
   "cell_type": "code",
   "execution_count": 53,
   "metadata": {},
   "outputs": [
    {
     "name": "stdout",
     "output_type": "stream",
     "text": [
      "La probabilidad de que un cliente pague mensualmente menos de 30 dólares dado que se fugó  es: 0.08667736757624397\n",
      "La probabilidad de que un cliente pague mensualmente entre 30 y 60 dólares dado que se fugó  es: 0.17549491706795076\n",
      "La probabilidad de que un cliente pague mensualmente entre 60 y 90 dólares dado que se fugó  es: 0.43285179240235416\n",
      "La probabilidad de que un cliente pague mensualmente mas de 90 dólares dado que se fugó  es: 0.30497592295345105\n",
      "\n",
      "\n",
      "La probabilidad de que haya fuga dado que un cliente paga menos de 30 dólares es: 0.09800362976406533\n",
      "La probabilidad de que haya fuga dado que un cliente paga mas de 30 dólares y menos de 60 es: 0.2592885375494071\n",
      "La probabilidad de que haya fuga dado que un cliente paga mas de 60 dólares y menos de 90 es: 0.3390611902766136\n",
      "La probabilidad de que haya fuga dado que un cliente paga mas de 90 dólares es: 0.32777458309373203\n"
     ]
    }
   ],
   "source": [
    "i = 0\n",
    "maximo = max(monthly_charge)\n",
    "\n",
    "\n",
    "#Guardara las personas que pagan mensualmente entre 0 y 30 dolares y se fugaron\n",
    "fuga_costo30 = 0\n",
    "#Guardara las personas que pagan mensualmente entre 0 y 30 dolares\n",
    "costo30 = 0\n",
    "#Guardara las personas que pagan mensualmente entre 30 y 60 dolares y se fugaron\n",
    "fuga_costo60 = 0\n",
    "#Guardara las personas que pagan mensualmente entre 30 y 60 dolares\n",
    "costo60 = 0\n",
    "#Guardara las personas que pagan mensualmente entre 60 y 90 dolares y se fugaron\n",
    "fuga_costo90 = 0\n",
    "#Guardara las personas que pagan mensualmente entre 60 y 90 dolares\n",
    "costo90 = 0\n",
    "#Guardara las personas que pagan mensualmente mas de 90 dolares\n",
    "fuga_costo120 = 0\n",
    "#Guardara las personas que pagan mensualmente mas de 90 dolares\n",
    "costo120 = 0\n",
    "\n",
    "\n",
    "while i < n:\n",
    "    costo = monthly_charge[i]\n",
    "    if costo <= 30:\n",
    "        costo30 += 1\n",
    "        if churn[i] == 'Yes':\n",
    "            fuga_costo30 += 1\n",
    "    elif costo>30 and costo<=60:\n",
    "        costo60 += 1\n",
    "        if churn[i] == 'Yes':\n",
    "            fuga_costo60 += 1\n",
    "    elif costo>60 and costo<=90:\n",
    "        costo90 += 1\n",
    "        if churn[i] == 'Yes':\n",
    "            fuga_costo90 += 1\n",
    "    elif costo>90 and costo<=maximo:\n",
    "        costo120 += 1\n",
    "        if churn[i] == 'Yes':\n",
    "            fuga_costo120 += 1\n",
    "    i+=1\n",
    "\n",
    "#Probabilidades de que un cliente pague \"x\" dolares dado que se fugó    \n",
    "prob_costo30 = (fuga_costo30/n)/(fugados/n)\n",
    "prob_costo60 = (fuga_costo60/n)/(fugados/n)\n",
    "prob_costo90 = (fuga_costo90/n)/(fugados/n)\n",
    "prob_costo120 = (fuga_costo120/n)/(fugados/n)\n",
    "\n",
    "#Probabilidades de que haya fuga dado que se pagan \"x\" dolares\n",
    "prob_fuga30 = (fuga_costo30/n)/(costo30/n)\n",
    "prob_fuga60 = (fuga_costo60/n)/(costo60/n)\n",
    "prob_fuga90 = (fuga_costo90/n)/(costo90/n)\n",
    "prob_fuga120 = (fuga_costo120/n)/(costo120/n)\n",
    "\n",
    "\n",
    "print('La probabilidad de que un cliente pague mensualmente menos de 30 dólares dado que se fugó  es:', prob_costo30)\n",
    "print('La probabilidad de que un cliente pague mensualmente entre 30 y 60 dólares dado que se fugó  es:', prob_costo60)\n",
    "print('La probabilidad de que un cliente pague mensualmente entre 60 y 90 dólares dado que se fugó  es:', prob_costo90)\n",
    "print('La probabilidad de que un cliente pague mensualmente mas de 90 dólares dado que se fugó  es:', prob_costo120)\n",
    "print('\\n')\n",
    "print('La probabilidad de que haya fuga dado que un cliente paga menos de 30 dólares es:', prob_fuga30)\n",
    "print('La probabilidad de que haya fuga dado que un cliente paga mas de 30 dólares y menos de 60 es:', prob_fuga60)\n",
    "print('La probabilidad de que haya fuga dado que un cliente paga mas de 60 dólares y menos de 90 es:', prob_fuga90)\n",
    "print('La probabilidad de que haya fuga dado que un cliente paga mas de 90 dólares es:', prob_fuga120)\n"
   ]
  },
  {
   "cell_type": "markdown",
   "metadata": {},
   "source": [
    "### Respuesta pregunta 1.d\n",
    "El cargo mensual si es un buen predictor de la fuga, pues mientras más dinero pagan los clientes las probabilidades de que haya fuga tienden a aumentar o por lo menos mantenerse casi iguales. Los clientes que pagan menos de 30 dólares tienen una baja probabilidad de fugarse de aproximadamente 0.1, mientras que los que pagan entre 30 y 60, aumenta a aproximadamente 0.26, aumentando aún más entre aquellos clientes que pagan entre 60 y 90 dólares a 0.34. Finalmente, aquellos que pagan más de 90 dólares, mantienen prácticamente la misma probabilidad con 0.33. En otras palabras, las personas que pagan más de 60 dólares mensuales tienen una probabilidad significativa de fugarse de 0.67 aproximadamente.\n",
    "\n",
    "En cuanto a la fuga como predictor del cargo mensual, los resultados obtenidos son congruentes con la conclusión anterior, si hay fuga, es muy probable que el cliente estuviera pagando más de 60 dólares mensuales con una probabilidad de aproximadamente 0.74, por lo que sí es un buen predictor del cargo mensual si se consideran solo los casos en que un cliente paga menos o más de 60 dólares mensuales. Si se divide en más casos, resulta más difícil analizar el comportamiento de los cargos mensuales, pues las probabilidades en algunos casos aumentan cuando el cargo disminuye y disminuyen cuando el cargo aumenta, por ejemplo, la probabilidad de que un cliente pague entre 60 y 90 es de aproximadamente 0.44, pero la probabilidad de que un cliente pague más de 90 disminuye a 0.30, por lo que no es tan buen predictor. "
   ]
  },
  {
   "cell_type": "markdown",
   "metadata": {},
   "source": [
    ">e) Utilizando criterios de probabilidad condicional, ¿es el cargo mensual un buen predictor de la estadia de un cliente? y ¿es la estadia del cliente un buen predictor del cargo mensual de este?\n",
    "\n",
    "*Estadia*: tenure"
   ]
  },
  {
   "cell_type": "markdown",
   "metadata": {},
   "source": [
    "### Código Pregunta 1.e"
   ]
  },
  {
   "cell_type": "code",
   "execution_count": 54,
   "metadata": {},
   "outputs": [
    {
     "name": "stdout",
     "output_type": "stream",
     "text": [
      "La probabilidad de que un cliente haya utilizado el servicio menos de 36 meses dado que paga menos de 60 dólares es: 0.6624400274160385\n",
      "La probabilidad de que un cliente haya utilizado el servicio mas de 36 meses dado que paga menos de 60 dólares es: 0.33755997258396164\n",
      "La probabilidad de que un cliente haya utilizado el servicio menos de 36 meses dado que paga mas de 60 dólares es: 0.5112727272727272\n",
      "La probabilidad de que un cliente haya utilizado el servicio mas de 36 meses dado que paga mas de 60 dólares es: 0.4887272727272727\n",
      "\n",
      "\n",
      "La probabilidad de que un cliente pague menos de 60 dólares dado que se encuentra utilizando el servicio hace menos 36 meses es: 0.4782285997031173\n",
      "La probabilidad de que un cliente pague mas de 60 dólares dado que se encuentra utilizando el servicio hace menos 36 meses es: 0.5217714002968827\n",
      "La probabilidad de que un cliente pague menos de 60 dólares dado que se encuentra utilizando el servicio hace mas 36 meses es: 0.32822392535821393\n",
      "La probabilidad de que un cliente pague mas de 60 dólares dado que se encuentra utilizando el servicio hace mas 36 meses es: 0.6717760746417861\n"
     ]
    }
   ],
   "source": [
    "i = 0\n",
    "#Guardara la cantidad de personas que se encuentran utilizando los servicios menos de 36 meses y pagando menos de 60 dolares\n",
    "estadia36_costo60 = 0\n",
    "#Guardara las pesonas que pagan menos de 60 dolares mensuales\n",
    "costos60 = 0\n",
    "#Guardara la cantidad de personas que se encuentran utilizando los servicios menos de 36 meses\n",
    "estadia36 = 0\n",
    "#Guardara la cantidad de personas que se encuentran utilizando los servicios menos de 36 meses y pagando mas de 60 dolares\n",
    "estadia36_costo120 = 0\n",
    "#Guardara las pesonas que pagan mas de 60 dolares mensuales\n",
    "costos120 = 0\n",
    "#Guardara la cantidad de personas que se encuentran utilizando los servicios mas de 36 meses y pagando menos de 60 dolares\n",
    "estadia72_costo60 = 0\n",
    "#Guardara la cantidad de personas que se encuentran utilizando los servicios mas de 36 meses\n",
    "estadia72 = 0\n",
    "#Guardara la cantidad de personas que se encuentran utilizando los servicios mas de 36 meses y pagando mas de 120 dolares\n",
    "estadia72_costo120 = 0\n",
    "\n",
    "while i < n:\n",
    "    if tenure[i] <= 36:\n",
    "        estadia36 += 1\n",
    "        if monthly_charge[i] <= 60:\n",
    "            costos60 += 1\n",
    "            estadia36_costo60 += 1\n",
    "        else:\n",
    "            costos120 += 1\n",
    "            estadia36_costo120 += 1\n",
    "    else:\n",
    "        estadia72 += 1\n",
    "        if monthly_charge[i] <= 60:\n",
    "            costos60 += 1\n",
    "            estadia72_costo60 += 1\n",
    "        else:\n",
    "            costos120 += 1\n",
    "            estadia72_costo120 += 1\n",
    "    i+=1\n",
    "\n",
    "#Probabilidades de quedarse \"x\" meses dado que el cliente paga \"y\" dolares\n",
    "prob_estadia36_costo60 = (estadia36_costo60/n)/(costos60/n)\n",
    "prob_estadia72_costo60 = (estadia72_costo60/n)/(costos60/n)\n",
    "prob_estadia36_costo120 = (estadia36_costo120/n)/(costos120/n)\n",
    "prob_estadia72_costo120 = (estadia72_costo120/n)/(costos120/n)\n",
    "\n",
    "#Probabilidades de pagar \"x\" dolares mensualmente dado que se utiliza el servicio \"y\" meses\n",
    "prob_costo60_estadia36 = (estadia36_costo60/n)/(estadia36/n)\n",
    "prob_costo120_estadia36 = (estadia36_costo120/n)/(estadia36/n)\n",
    "prob_costo60_estadia72 = (estadia72_costo60/n)/(estadia72/n)\n",
    "prob_costo120_estadia72 = (estadia72_costo120/n)/(estadia72/n)\n",
    "\n",
    "print('La probabilidad de que un cliente haya utilizado el servicio menos de 36 meses dado que paga menos de 60 dólares es:', prob_estadia36_costo60)\n",
    "print('La probabilidad de que un cliente haya utilizado el servicio mas de 36 meses dado que paga menos de 60 dólares es:', prob_estadia72_costo60)\n",
    "print('La probabilidad de que un cliente haya utilizado el servicio menos de 36 meses dado que paga mas de 60 dólares es:', prob_estadia36_costo120)\n",
    "print('La probabilidad de que un cliente haya utilizado el servicio mas de 36 meses dado que paga mas de 60 dólares es:', prob_estadia72_costo120)\n",
    "print(\"\\n\")\n",
    "print('La probabilidad de que un cliente pague menos de 60 dólares dado que se encuentra utilizando el servicio hace menos 36 meses es:',prob_costo60_estadia36)\n",
    "print('La probabilidad de que un cliente pague mas de 60 dólares dado que se encuentra utilizando el servicio hace menos 36 meses es:',prob_costo120_estadia36)\n",
    "print('La probabilidad de que un cliente pague menos de 60 dólares dado que se encuentra utilizando el servicio hace mas 36 meses es:',prob_costo60_estadia72)\n",
    "print('La probabilidad de que un cliente pague mas de 60 dólares dado que se encuentra utilizando el servicio hace mas 36 meses es:',prob_costo120_estadia72)\n"
   ]
  },
  {
   "cell_type": "markdown",
   "metadata": {},
   "source": [
    "### Respuesta pregunta 1.e\n",
    "\n",
    "El cargo mensual si es un buen predictor de la estadía de un cliente si este es menor a 60 dólares, pues existen diferencias significativas entre las probabilidades de aquellos clientes cuya estadía es menor o mayor a 36 meses, siendo más probable (0.66 de probabilidad) que un cliente utilice el servicio por menos de 36 meses y menos probable que utilice el servicio por mas de 36 meses dado que paga menos de 60 dólares (probabilidad de 0.34). Si el cargo mensual es mayor a 60 dólares, este no es un buen predictor de la estadía de un cliente pues las probabilidades obtenidas son muy cercanas: 0.51 de probabilidad de utilizar el servicio menos de 36 meses, y 0.49 de utilizarlo mas de 36 meses, en ambos casos, dado que se paga mas de 60 dólares. \n",
    "\n",
    "En cuanto al caso inverso, predecir el cargo mensual dado la estadía, no es un buen predictor, si la estadía es menor a 36 meses, pues al igual que el caso anterior, las probabilidades de pagar más o menos de 60 dólares dado que la estadía es menor de 36 meses, son muy similares (0.52 para menos de 60 dólares y 0.48 para más de 60 dólares). Si la estadía es mayor a 32 meses, este si es un buen predictor del cargo mensual, teniendo una probabilidad de 0.67 de que un cliente pague más de 60 dólares dado una estadía mayor a 36 meses, y una probabilidad de 0.33 de que un cliente pague menos de 60 dólares dado también una estadía mayor a 36 meses."
   ]
  },
  {
   "cell_type": "markdown",
   "metadata": {},
   "source": [
    "## 2. Máquina de Rube Goldberg\n",
    "\n",
    "Una máquina de Rube Goldberg es un artefacto extremadamente complejo que realiza una tarea fácil. Usted, en su tiempo libre, decidió construir uno de estos artefactos que consta de 5 etapas:\n",
    "\n",
    "<ol>\n",
    "    <li>Lanza una bolita que rueda por un riel con una probabilidad de $\\dfrac{2}{5}$ de caerse</li>\n",
    "    <li>Después de rodar por el riel cae en una catapulta que la lanza en la dirección correcta el $60\\%$ de las veces</li>\n",
    "    <li>Impacta contra una tela que le frena el impulso y la hace caer sobre el interruptor de un ventilador, el $80\\%$ de las veces es capaz de activar el ventilador</li>\n",
    "    <li>Cuando el ventilador se activa empuja un barco de juguete en una fuente con agua hasta el otro extremo de esta para empujar otra bolita, el barco llega con suficiente impulso con una probabilidad de $\\dfrac{6}{9}$</li>\n",
    "    <li>Esta bolita rueda por otro riel y cae sobre el control remoto que enciende su televisor, en un $30\\%$ de las veces logra encenderlo</li>\n",
    "</ol>\n",
    "\n",
    ">a) Usted quiere subir su máquina de Rube Goldberg a Youtube™, estime cuántas veces (en promedio) tendrá que poner en marcha su máquina hasta que resulte por primera vez en video. A su vez, haga un gráfico mostrando la probabilidad de no tener éxito en función del número de puestas en marcha de la máquina y comente."
   ]
  },
  {
   "cell_type": "markdown",
   "metadata": {},
   "source": [
    "### Nota: Si los códigos se corren nuevamente, pueden existir diferencias en los resultados colocados en las respuestas, pues muchos de estos dependen de la aleatoriedad."
   ]
  },
  {
   "cell_type": "markdown",
   "metadata": {},
   "source": [
    "### Código Pregunta 2.a"
   ]
  },
  {
   "cell_type": "code",
   "execution_count": 55,
   "metadata": {},
   "outputs": [],
   "source": [
    "import numpy as np\n",
    "import matplotlib.pyplot as plt\n",
    "import seaborn as sns\n",
    "sns.set()\n",
    "%matplotlib inline"
   ]
  },
  {
   "cell_type": "code",
   "execution_count": 58,
   "metadata": {},
   "outputs": [
    {
     "name": "stdout",
     "output_type": "stream",
     "text": [
      "Las veces que se debe correr la máquina para que resulte es de 16.475 veces en promedio\n"
     ]
    }
   ],
   "source": [
    "#Se define una función para cada etapa que entregará True o False dependiendo de si logra pasar esa etapa con respecto a las probabilidades del enunciado\n",
    "def riel():\n",
    "    evento = np.random.choice([False,True], p = [0.4,0.6])\n",
    "    return evento\n",
    "\n",
    "def catapulta():\n",
    "    evento = np.random.choice([False,True], p = [0.4,0.6])\n",
    "    return evento\n",
    "\n",
    "def ventilador():\n",
    "    evento = np.random.choice([False,True], p = [0.2,0.8])\n",
    "    return evento\n",
    "\n",
    "def barco():\n",
    "    evento = np.random.choice([False,True], p = [(3.0/9.0),(6.0/9.0)])\n",
    "    return evento\n",
    "\n",
    "def control():\n",
    "    evento = np.random.choice([False,True], p = [0.7,0.3])\n",
    "    return evento\n",
    "\n",
    "#Lista que guardará la cantidad de veces que se tuvo que correr la máquina hasta funcionar\n",
    "intentos = []\n",
    "#Se cuentan la cantidad de veces que se corre la máquina hasta funcionar, agregando el valor a la lista intentos y repitiendo este procedimiento 1000 veces para luego obtener un promedio de las veces que se debe correr la máquina\n",
    "for i in range(1000):\n",
    "    exito = False\n",
    "    fracasos = 0\n",
    "    #Mientras no se logren todas las etapas, se debe seguir intentando, contando cada intento.\n",
    "    while not exito:\n",
    "        if riel() and catapulta() and ventilador() and barco() and control():\n",
    "            exito = True\n",
    "            intentos.append(fracasos)\n",
    "        else:\n",
    "            fracasos +=1\n",
    "print(\"Las veces que se debe correr la máquina para que resulte es de\", sum(intentos)/len(intentos),'veces en promedio')"
   ]
  },
  {
   "cell_type": "code",
   "execution_count": 2,
   "metadata": {
    "scrolled": true
   },
   "outputs": [
    {
     "data": {
      "text/plain": [
       "Text(0.5, 1.0, 'Gráfico 1')"
      ]
     },
     "execution_count": 2,
     "metadata": {},
     "output_type": "execute_result"
    },
    {
     "data": {
      "image/png": "[encoded data removed]",
      "text/plain": [
       "<Figure size 432x288 with 1 Axes>"
      ]
     },
     "metadata": {
      "needs_background": "light"
     },
     "output_type": "display_data"
    }
   ],
   "source": [
    "import matplotlib.pyplot as plt\n",
    "import seaborn as sns\n",
    "import numpy as np\n",
    "sns.set()\n",
    "%matplotlib inline \n",
    "\n",
    "#Lista que guarda los valores del eje Y (Probabilidad de fracasar dado x intentos)\n",
    "valores_Y = []\n",
    "#Lista que guarda los valores del eje X (Cantidad de intentos)\n",
    "valores_X = range(1,501)\n",
    "for i in valores_X:\n",
    "    #Se cuentan el numero de fracasos\n",
    "    fracasos = 0\n",
    "    j = 0\n",
    "    while j < i:\n",
    "        exitoso = np.random.choice([True,False], p=[0.0576,0.9424])\n",
    "        if not exitoso:\n",
    "            fracasos += 1\n",
    "        j+=1\n",
    "    #Se agrega la probabilidad de fracasar a la lista para las distintas cantidades de intentos, correspondiente al numero de fracasos dividido en la cantidad de intentos\n",
    "    valores_Y.append(fracasos/i)\n",
    "plt.plot(valores_X,valores_Y)\n",
    "plt.xlabel('Puestas en marcha')\n",
    "plt.ylabel('Probabilidad de fracaso')\n",
    "plt.title('Gráfico 1')"
   ]
  },
  {
   "cell_type": "markdown",
   "metadata": {},
   "source": [
    "### Respuesta pregunta 2.a\n",
    "Las veces que se debe correr la máquina para que resulte es de 16 veces aproximadamente en promedio. Para obtener este valor se puso en marcha el experimento hasta que funcione y se logre la última etapa, guardando el número intentos. Esto se repitió 1000 veces, y se obtuvo un promedio de la cantidad de intentos, siendo este 16.98.\n",
    "\n",
    "Si se analiza el gráfico obtenido (Gráfico 1), se puede notar que mientras más puestas en marcha se realicen, la probabilidad de fracaso se acerca a 0.94 aproximadamente, es decir, si las puestas en marcha tienden a infinito, la probabilidad de fracaso tiende a aproximadamente 0.94, lo que si tiene congruencia con el experimento, pues la probabilidad de obtener un éxito corresponde a la probabilidad de que se logren todas las etapas, y esto resulta muy improbable que ocurra."
   ]
  },
  {
   "cell_type": "markdown",
   "metadata": {},
   "source": [
    "> b) Si usted cuenta con 1000 bolitas, estime tanto téorica como empíricamente cuántas bolitas fallan en cada estapa. Compare sus resultados obtenidos.\n",
    "\n",
    "*Recuerde que habrá una cantidad de bolitas que no fallarán*"
   ]
  },
  {
   "cell_type": "markdown",
   "metadata": {},
   "source": [
    "### Código Pregunta 2.b"
   ]
  },
  {
   "cell_type": "code",
   "execution_count": 61,
   "metadata": {},
   "outputs": [
    {
     "name": "stdout",
     "output_type": "stream",
     "text": [
      "Datos obtenidos de manera empírica para 1000 bolitas:\n",
      "La cantidad de veces que la bola se cae del riel es 393 veces\n",
      "La cantidad de veces que la bola no es lanzada en la dirección correcta es 247 veces\n",
      "La cantidad de veces que la bola no logra prender el ventilador es 66 veces\n",
      "La cantidad de veces que la bola no es emmpujada con suficiente impulso es 82 veces\n",
      "La cantidad de veces que la bola no logra prender el televisor es 157 veces\n"
     ]
    }
   ],
   "source": [
    "#Variables que guardarán la cantidad de fracasos en la respectiva etapa \n",
    "fracasos_riel = 0\n",
    "fracasos_catapulta = 0\n",
    "fracasos_ventilador = 0\n",
    "fracasos_barco = 0\n",
    "fracasos_control = 0\n",
    "casos_exitosos = 0\n",
    "\n",
    "#Se corre la máquina 1000 veces contando las bolitas que fallan en cada etapa\n",
    "for i in range(1000):\n",
    "    if riel():\n",
    "        if catapulta():\n",
    "            if ventilador():\n",
    "                if barco():\n",
    "                    if control():\n",
    "                        casos_exitosos += 1\n",
    "                    else:\n",
    "                        fracasos_control+=1\n",
    "                else:\n",
    "                    fracasos_barco+=1\n",
    "            else:\n",
    "                fracasos_ventilador+=1\n",
    "        else:\n",
    "            fracasos_catapulta+=1\n",
    "    else:\n",
    "        fracasos_riel += 1\n",
    "\n",
    "print('Datos obtenidos de manera empírica para 1000 bolitas:')\n",
    "print('La cantidad de veces que la bola se cae del riel es',fracasos_riel,'veces')\n",
    "print('La cantidad de veces que la bola no es lanzada en la dirección correcta es',fracasos_catapulta,'veces')\n",
    "print('La cantidad de veces que la bola no logra prender el ventilador es',fracasos_ventilador,'veces')\n",
    "print('La cantidad de veces que la bola no es emmpujada con suficiente impulso es',fracasos_barco,'veces')\n",
    "print('La cantidad de veces que la bola no logra prender el televisor es',fracasos_control,'veces')"
   ]
  },
  {
   "cell_type": "markdown",
   "metadata": {},
   "source": [
    "### Respuesta pregunta 2.b\n",
    "Si se estima de manera téorica cuántas bolitas fallan en cada estapa se tiene lo siguiente:\n",
    "\n",
    "Primero se define el evento **$E_i$** que corresponde a **fallar la etapa i**.\n",
    "\n",
    "Luego La probabilidad de fallar en la primera etapa corresponde a la probabilidad de que la bolita se caiga del riel, es decir:\n",
    "\\begin{equation*} P(E_1) = 0.4 \\end{equation*}\n",
    "\n",
    "**El 40% de las bolitas falla la primera etapa, es decir, 400 bolitas de 1000**.\n",
    "\n",
    "La probabilidad de fallar la segunda etapa corresponde a la probabilidad de que la bolita no se caiga del riel y que no sea lanzada en la dirección correcta por la catapulta:\n",
    "\\begin{equation*} P(E_2) = 0.6 \\cdot 0,4 = 0.24 \\end{equation*}\n",
    "\n",
    "**El 24% de las bolitas falla la segunda etapa, es decir, 240 bolitas de 1000**.\n",
    "\n",
    "En cuanto a la probabilidad de fallar la tercera etapa, corresponde a la probabilidad de que la bolita no se caiga del riel, que sea lanzada en la dirección correcta por la catapulta y que el ventilador no logre activarse:\n",
    "\\begin{equation*} P(E_3) = 0.6 \\cdot 0,6 \\cdot 0.2 = 0.072 \\end{equation*}\n",
    "\n",
    "**El 7,2% de las bolitas falla la tercera etapa, es decir, 72 bolitas de 1000**.\n",
    "\n",
    "La probabilidad de fallar la cuarta etapa es la probabilidad de que la bolita no se caiga del riel, que sea lanzada en la dirección correcta por la catapulta, que el ventilador logre activarse y que el barco no llegue con suficiente impulso:\n",
    "\\begin{equation*} P(E_4) = 0.6 \\cdot 0,6 \\cdot 0.8 \\cdot 0.33 = 0.095 \\end{equation*}\n",
    "\n",
    "**El 9,5% de las bolitas falla la cuarta etapa, es decir, 95 bolitas de 1000**.\n",
    "\n",
    "Finalmente la probabilidad de fallar la cuarta etapa corresponde a la probabilidad de que la bolita no se caiga del riel, que sea lanzada en la dirección correcta por la catapulta, que el ventilador logre activarse, que el barco llegue con suficiente impulso y que no logre prender el televisor:\n",
    "\\begin{equation*} P(E_5) = 0.6 \\cdot 0,6 \\cdot 0.8 \\cdot 0.67 \\cdot 0.7 = 0.135 \\end{equation*}\n",
    "\n",
    "**El 13,5% de las bolitas falla la quinta etapa, es decir, 135 bolitas de 1000**.\n",
    "\n",
    "Si se comparan con los resultados obtenidos de manera empírica, es posible afirmar que estos si son una buena representación de la teoría, pues los valores son practicamente similares y con diferencias minimas."
   ]
  },
  {
   "cell_type": "markdown",
   "metadata": {},
   "source": [
    "> c) Determine la función de probabilidad que rige este fenómeno según todos los estados posibles de la bolita"
   ]
  },
  {
   "cell_type": "markdown",
   "metadata": {},
   "source": [
    "### Respuesta pregunta 2.c\n",
    "Se definen los siguientes eventos:\n",
    "\n",
    "+ R: La bola logra pasar por el riel sin caerse\n",
    "+ B: La bola es lanzada en la dirección correcta por la catapulta\n",
    "+ V: La bola logra activar el ventilador\n",
    "+ B: La bola es empujada con suficiente impulso por el barco\n",
    "+ T: La bola logra encender el televisor\n",
    "\n",
    "Sea X la cantidad de etapas que logra pasar la bola, entonces el recorrido de X es $R_x$ = {0,1,2,3,4,5}. Si se define la  función de probabilidad de X, es nula, excepto por los siguientes puntos (las probabilidades se encuentran aproximadas):\n",
    "\n",
    "$\\begin{equation*} f_X(X = 0) = P(R') = 0.400 \\end{equation*}$\n",
    "\n",
    "$\\begin{equation*} f_X(X = 1) = P(R)P(C') = 0.6 \\cdot 0.4 = 0.240 \\end{equation*}$\n",
    "\n",
    "$\\begin{equation*} f_X(X = 2) = P(R)P(C)P(V') = 0.6 \\cdot 0.6 \\cdot 0.2 = 0.072 \\end{equation*}$\n",
    "\n",
    "$\\begin{equation*} f_X(X = 3) = P(R)P(C)P(V)P(B') = 0.6 \\cdot 0.6 \\cdot 0.8 \\cdot 0.33 = 0.095 \\end{equation*}$\n",
    "\n",
    "$\\begin{equation*} f_X(X = 4) = P(R)P(C)P(V)P(B)P(T') = 0.6 \\cdot 0.6 \\cdot 0.8 \\cdot 0.67 \\cdot 0.7 = 0.135 \\end{equation*}$\n",
    "\n",
    "$\\begin{equation*} f_X(X = 5) = P(R)P(C)P(V)P(B)P(T) = 0.6 \\cdot 0.6 \\cdot 0.8 \\cdot 0.67 \\cdot 0.3 = 0.058 \\end{equation*}$\n"
   ]
  },
  {
   "cell_type": "markdown",
   "metadata": {},
   "source": [
    ">d) Genere 1000 valores aleatorios que sigan la función de probabilidad que encontró en c), haga un histograma y compare con lo obtenido en b)"
   ]
  },
  {
   "cell_type": "markdown",
   "metadata": {},
   "source": [
    "### Código Pregunta 2.d"
   ]
  },
  {
   "cell_type": "code",
   "execution_count": 6,
   "metadata": {},
   "outputs": [
    {
     "name": "stdout",
     "output_type": "stream",
     "text": [
      "La cantidad de bolitas que pasa 0 etapas es 431\n",
      "La cantidad de bolitas que pasa 1 etapa es 221\n",
      "La cantidad de bolitas que pasa 2 etapas es 75\n",
      "La cantidad de bolitas que pasa 3 etapas es 77\n",
      "La cantidad de bolitas que pasa 4 etapas es 136\n",
      "La cantidad de bolitas que pasa 5 etapas es 60\n"
     ]
    },
    {
     "data": {
      "text/plain": [
       "Text(0.5, 1.0, 'Gráfico 2')"
      ]
     },
     "execution_count": 6,
     "metadata": {},
     "output_type": "execute_result"
    },
    {
     "data": {
      "image/png": "[encoded data removed]",
      "text/plain": [
       "<Figure size 432x288 with 1 Axes>"
      ]
     },
     "metadata": {
      "needs_background": "light"
     },
     "output_type": "display_data"
    }
   ],
   "source": [
    "resultados = {0:0,1:0,2:0,3:0,4:0,5:0}\n",
    "resultados_histograma = []\n",
    "for i in range(1000):\n",
    "    X = np.random.choice([0,1,2,3,4,5], p=[0.4,0.24,0.072,0.095,0.135,0.058])\n",
    "    resultados[X]+=1\n",
    "    resultados_histograma.append(X)\n",
    "print(\"La cantidad de bolitas que pasa 0 etapas es\",resultados[0])\n",
    "print(\"La cantidad de bolitas que pasa 1 etapa es\",resultados[1])\n",
    "print(\"La cantidad de bolitas que pasa 2 etapas es\",resultados[2])\n",
    "print(\"La cantidad de bolitas que pasa 3 etapas es\",resultados[3])\n",
    "print(\"La cantidad de bolitas que pasa 4 etapas es\",resultados[4])\n",
    "print(\"La cantidad de bolitas que pasa 5 etapas es\",resultados[5])\n",
    "\n",
    "plt.hist(resultados_histograma, bins=6, range=(0,6))\n",
    "plt.xlabel('Etapas logradas')\n",
    "plt.ylabel('Cantidad de bolitas')\n",
    "plt.title('Gráfico 2')"
   ]
  },
  {
   "cell_type": "markdown",
   "metadata": {},
   "source": [
    "### Respuesta pregunta 2.d\n",
    "Al comparar los resultados obtenidos con los de b, se puede notar una gran similitud en la cantidad de bolitas que pasan las etapas 0, 1, 2, 3 y 4 con la cantidad de bolitas que fallan 1, 2, 3, 4 y 5 etapas respectivamente. Esta gran similitud se puede justificar al observar las probabilidades teóricas en ambos casos, en donde la función de probabilidad evaluada en los puntos 0,1,2,3 y 4 tiene exactamente las mismas probabilidades que las obtenidas en b, es decir, la probabilidad de pasar 0 etapas es igual a la probabilidad de fallar la primera etapa, la probabilidad de pasar 1 etapa es igual a la probabilidad de fallar la segunda etapa, la probabilidad de pasar 2 etapas es igual a la probabilidad de fallar la tercera etapa, la probabilidad de pasar 3 etapas es igual a la probabilidad de fallar la cuarta etapa, y la probabilidad de pasar 4 etapas es igual a la probabilidad de fallar la quinta etapa. Por lo tanto, si se tienen probabilidades teóricas iguales, resulta lógico que en ambos casos se obtengan valores similares en la práctica. La razón por la cual no se obtuvieron valores exactamente iguales es debido a que este experimento simula aleatoriedad, y al ser aleatorio, no es posible controlar completamente lo que ocurre, y la probabilidades son una aproximación de la realidad.\n",
    "\n",
    "Por otro lado, es posible notar que la única gran diferencia entre la función de probabilidad obtenida en c, y las probabilidades de fallar en b, es que en la pregunta b, no se considera el caso en que se logran todas las etapas, es decir, si se suman todas sus probabilidades, será distinto de 1.\n",
    "\n",
    "En cuanto al gráfico 2 obtenido, se puede observar que la moda corresponde a pasar 0 etapas, lo que significa, que la mayoría de las bolitas no logra pasar de la primera etapa. Por otra parte, si se calcula la frecuencia acumulada de bolitas que lograron llegar hasta la etapa 5, se observa que esta es de 940 bolitas, por lo tanto, el 94% de las bolitas no logró pasar de la etapa 5, existiendo una cantidad muy pequeña que si lograron completarla y finalizar la máquina con éxito. Esto que tambien es apreciable en la pequeña barra de la etapa 5 del gráfico 2, lo que permite concluir que este es un experimeto con una probabilidad muy baja de éxito."
   ]
  },
  {
   "cell_type": "markdown",
   "metadata": {},
   "source": [
    "## 3. Perritos Enfermos\n",
    "\n",
    "Usted trabaja en un refugio de animales que se especializa en recibir perros, además de contar con el equipo necesario para tratar con enfermedades que estos puedan presentar. Viendo las noticias se enteró que un virus sumamente peligroso para los perros se está expandiendo rápidamente por la zona y sospecha que algunos de los perros bajo su cuidado pueden estar infectados pero, no presentan un síntoma de momento. Para suerte suya este virus tiene cura hace tiempo y cuenta con el equipo para analizar muestras de saliva para detectar qué perro está infectado con el virus o no.\n",
    "\n",
    "Usted tiene 500 perros, para no hacer la prueba 1 a 1 ha decidido juntar muestras de saliva en grupos de $K$ perros (con $K$ siendo un divisor de 500), y en caso de que el examen arroje positivo hará la prueba 1 a 1 del grupo. Asuma que 8 perros están infectados, pero usted no sabe esto a priori.\n",
    "\n",
    ">a) ¿Es posible determinar **teóricamente** un $K$ tal que la cantidad de veces que se realiza la prueba sea la menor posible? De ser así, encuentre dicho K. ¿Qué distribución es comparable a este fenómeno?"
   ]
  },
  {
   "cell_type": "code",
   "execution_count": 14,
   "metadata": {},
   "outputs": [],
   "source": [
    "from scipy.stats import hypergeom\n",
    "import numpy as np"
   ]
  },
  {
   "cell_type": "code",
   "execution_count": 62,
   "metadata": {},
   "outputs": [
    {
     "name": "stdout",
     "output_type": "stream",
     "text": [
      "Si k es 1 :\n",
      "La probabilidad de encontrar 0 perro/s infectados en un grupo de 1 perro/s es 0.9840000000002177\n",
      "La probabilidad de encontrar 1 perro/s infectados en un grupo de 1 perro/s es 0.016000000000001374\n",
      "La probabilidad de encontrar 2 perro/s infectados en un grupo de 1 perro/s es 0.0\n",
      "La probabilidad de encontrar 3 perro/s infectados en un grupo de 1 perro/s es 0.0\n",
      "La probabilidad de encontrar 4 perro/s infectados en un grupo de 1 perro/s es 0.0\n",
      "La probabilidad de encontrar 5 perro/s infectados en un grupo de 1 perro/s es 0.0\n",
      "La probabilidad de encontrar 6 perro/s infectados en un grupo de 1 perro/s es 0.0\n",
      "La probabilidad de encontrar 7 perro/s infectados en un grupo de 1 perro/s es 0.0\n",
      "La probabilidad de encontrar 8 perro/s infectados en un grupo de 1 perro/s es 0.0\n",
      "\n",
      "Si k es 2 :\n",
      "La probabilidad de encontrar 0 perro/s infectados en un grupo de 2 perro/s es 0.9682244488979768\n",
      "La probabilidad de encontrar 1 perro/s infectados en un grupo de 2 perro/s es 0.031551102204417064\n",
      "La probabilidad de encontrar 2 perro/s infectados en un grupo de 2 perro/s es 0.00022444889779561902\n",
      "La probabilidad de encontrar 3 perro/s infectados en un grupo de 2 perro/s es 0.0\n",
      "La probabilidad de encontrar 4 perro/s infectados en un grupo de 2 perro/s es 0.0\n",
      "La probabilidad de encontrar 5 perro/s infectados en un grupo de 2 perro/s es 0.0\n",
      "La probabilidad de encontrar 6 perro/s infectados en un grupo de 2 perro/s es 0.0\n",
      "La probabilidad de encontrar 7 perro/s infectados en un grupo de 2 perro/s es 0.0\n",
      "La probabilidad de encontrar 8 perro/s infectados en un grupo de 2 perro/s es 0.0\n",
      "\n",
      "Si k es 4 :\n",
      "La probabilidad de encontrar 0 perro/s infectados en un grupo de 4 perro/s es 0.937335903777426\n",
      "La probabilidad de encontrar 1 perro/s infectados en un grupo de 4 perro/s es 0.06133895484844493\n",
      "La probabilidad de encontrar 2 perro/s infectados en un grupo de 4 perro/s es 0.001314406175323507\n",
      "La probabilidad de encontrar 3 perro/s infectados en un grupo de 4 perro/s es 1.0707993281658652e-05\n",
      "La probabilidad de encontrar 4 perro/s infectados en un grupo de 4 perro/s es 2.7205267483885187e-08\n",
      "La probabilidad de encontrar 5 perro/s infectados en un grupo de 4 perro/s es 0.0\n",
      "La probabilidad de encontrar 6 perro/s infectados en un grupo de 4 perro/s es 0.0\n",
      "La probabilidad de encontrar 7 perro/s infectados en un grupo de 4 perro/s es 0.0\n",
      "La probabilidad de encontrar 8 perro/s infectados en un grupo de 4 perro/s es 0.0\n",
      "\n",
      "Si k es 5 :\n",
      "La probabilidad de encontrar 0 perro/s infectados en un grupo de 5 perro/s es 0.9222175827489397\n",
      "La probabilidad de encontrar 1 perro/s infectados en un grupo de 5 perro/s es 0.07559160514336377\n",
      "La probabilidad de encontrar 2 perro/s infectados en un grupo de 5 perro/s es 0.002164176834371198\n",
      "La probabilidad de encontrar 3 perro/s infectados en un grupo de 5 perro/s es 2.65001245024982e-05\n",
      "La probabilidad de encontrar 4 perro/s infectados en un grupo de 5 perro/s es 1.349293508273935e-07\n",
      "La probabilidad de encontrar 5 perro/s infectados en un grupo de 5 perro/s es 2.193973184184961e-10\n",
      "La probabilidad de encontrar 6 perro/s infectados en un grupo de 5 perro/s es 0.0\n",
      "La probabilidad de encontrar 7 perro/s infectados en un grupo de 5 perro/s es 0.0\n",
      "La probabilidad de encontrar 8 perro/s infectados en un grupo de 5 perro/s es 0.0\n",
      "\n",
      "Si k es 10 :\n",
      "La probabilidad de encontrar 0 perro/s infectados en un grupo de 10 perro/s es 0.8497813540668877\n",
      "La probabilidad de encontrar 1 perro/s infectados en un grupo de 10 perro/s es 0.14075053483499178\n",
      "La probabilidad de encontrar 2 perro/s infectados en un grupo de 10 perro/s es 0.009160417039885368\n",
      "La probabilidad de encontrar 3 perro/s infectados en un grupo de 10 perro/s es 0.00030219932502711537\n",
      "La probabilidad de encontrar 4 perro/s infectados en un grupo de 10 perro/s es 5.440831469110149e-06\n",
      "La probabilidad de encontrar 5 perro/s infectados en un grupo de 10 perro/s es 5.3626264993275956e-08\n",
      "La probabilidad de encontrar 6 perro/s infectados en un grupo de 10 perro/s es 2.7472471820328714e-10\n",
      "La probabilidad de encontrar 7 perro/s infectados en un grupo de 10 perro/s es 6.420677024911408e-13\n",
      "La probabilidad de encontrar 8 perro/s infectados en un grupo de 10 perro/s es 4.913783437431037e-16\n",
      "\n",
      "Si k es 20 :\n",
      "La probabilidad de encontrar 0 perro/s infectados en un grupo de 20 perro/s es 0.7196909575985294\n",
      "La probabilidad de encontrar 1 perro/s infectados en un grupo de 20 perro/s es 0.24344725838416556\n",
      "La probabilidad de encontrar 2 perro/s infectados en un grupo de 20 perro/s es 0.034154520427328604\n",
      "La probabilidad de encontrar 3 perro/s infectados en un grupo de 20 perro/s es 0.0025885531271235183\n",
      "La probabilidad de encontrar 4 perro/s infectados en un grupo de 20 perro/s es 0.00011556040746084679\n",
      "La probabilidad de encontrar 5 perro/s infectados en un grupo de 20 perro/s es 3.1009920660345194e-06\n",
      "La probabilidad de encontrar 6 perro/s infectados en un grupo de 20 perro/s es 4.865573325369932e-08\n",
      "La probabilidad de encontrar 7 perro/s infectados en un grupo de 20 perro/s es 4.0631092487410813e-10\n",
      "La probabilidad de encontrar 8 perro/s infectados en un grupo de 20 perro/s es 1.3755317769182061e-12\n",
      "\n",
      "Si k es 25 :\n",
      "La probabilidad de encontrar 0 perro/s infectados en un grupo de 25 perro/s es 0.6614477240511724\n",
      "La probabilidad de encontrar 1 perro/s infectados en un grupo de 25 perro/s es 0.282669967543338\n",
      "La probabilidad de encontrar 2 perro/s infectados en un grupo de 25 perro/s es 0.05062745687342499\n",
      "La probabilidad de encontrar 3 perro/s infectados en un grupo de 25 perro/s es 0.00495502769399359\n",
      "La probabilidad de encontrar 4 perro/s infectados en un grupo de 25 perro/s es 0.0002893062878660143\n",
      "La probabilidad de encontrar 5 perro/s infectados en un grupo de 25 perro/s es 1.0297342449467966e-05\n",
      "La probabilidad de encontrar 6 perro/s infectados en un grupo de 25 perro/s es 2.1770280020006396e-07\n",
      "La probabilidad de encontrar 7 perro/s infectados en un grupo de 25 perro/s es 2.4932810149505714e-09\n",
      "La probabilidad de encontrar 8 perro/s infectados en un grupo de 25 perro/s es 1.1810278491869516e-11\n",
      "\n",
      "Si k es 50 :\n",
      "La probabilidad de encontrar 0 perro/s infectados en un grupo de 50 perro/s es 0.42776863002597293\n",
      "La probabilidad de encontrar 1 perro/s infectados en un grupo de 50 perro/s es 0.3862470700010537\n",
      "La probabilidad de encontrar 2 perro/s infectados en un grupo de 50 perro/s es 0.14919228041700494\n",
      "La probabilidad de encontrar 3 perro/s infectados en un grupo de 50 perro/s es 0.032185300943882535\n",
      "La probabilidad de encontrar 4 perro/s infectados en un grupo de 50 perro/s es 0.004239655673662649\n",
      "La probabilidad de encontrar 5 perro/s infectados en un grupo de 50 perro/s es 0.00034903652973352245\n",
      "La probabilidad de encontrar 6 perro/s infectados en un grupo de 50 perro/s es 1.7529736426337653e-05\n",
      "La probabilidad de encontrar 7 perro/s infectados en un grupo de 50 perro/s es 4.908103103779958e-07\n",
      "La probabilidad de encontrar 8 perro/s infectados en un grupo de 50 perro/s es 5.862456485069579e-09\n",
      "\n",
      "Si k es 100 :\n",
      "La probabilidad de encontrar 0 perro/s infectados en un grupo de 100 perro/s es 0.1654133261309333\n",
      "La probabilidad de encontrar 1 perro/s infectados en un grupo de 100 perro/s es 0.3367192389436119\n",
      "La probabilidad de encontrar 2 perro/s infectados en un grupo de 100 perro/s es 0.29612491445145905\n",
      "La probabilidad de encontrar 3 perro/s infectados en un grupo de 100 perro/s es 0.14693793223425766\n",
      "La probabilidad de encontrar 4 perro/s infectados en un grupo de 100 perro/s es 0.04499046536212674\n",
      "La probabilidad de encontrar 5 perro/s infectados en un grupo de 100 perro/s es 0.008703445188439749\n",
      "La probabilidad de encontrar 6 perro/s infectados en un grupo de 100 perro/s es 0.0010387277549011964\n",
      "La probabilidad de encontrar 7 perro/s infectados en un grupo de 100 perro/s es 6.991794411798522e-05\n",
      "La probabilidad de encontrar 8 perro/s infectados en un grupo de 100 perro/s es 2.031990250928533e-06\n",
      "\n",
      "Si k es 125 :\n",
      "La probabilidad de encontrar 0 perro/s infectados en un grupo de 125 perro/s es 0.09823979217558214\n",
      "La probabilidad de encontrar 1 perro/s infectados en un grupo de 125 perro/s es 0.26695595699874675\n",
      "La probabilidad de encontrar 2 perro/s infectados en un grupo de 125 perro/s es 0.3139807190717981\n",
      "La probabilidad de encontrar 3 perro/s infectados en un grupo de 125 perro/s es 0.20875474835586824\n",
      "La probabilidad de encontrar 4 perro/s infectados en un grupo de 125 perro/s es 0.08580889251824401\n",
      "La probabilidad de encontrar 5 perro/s infectados en un grupo de 125 perro/s es 0.022328765580013343\n",
      "La probabilidad de encontrar 6 perro/s infectados en un grupo de 125 perro/s es 0.0035917585383394798\n",
      "La probabilidad de encontrar 7 perro/s infectados en un grupo de 125 perro/s es 0.00032652350348551105\n",
      "La probabilidad de encontrar 8 perro/s infectados en un grupo de 125 perro/s es 1.284325780376321e-05\n",
      "\n",
      "Si k es 250 :\n",
      "La probabilidad de encontrar 0 perro/s infectados en un grupo de 250 perro/s es 0.0036903559373749465\n",
      "La probabilidad de encontrar 1 perro/s infectados en un grupo de 250 perro/s es 0.03037329989609482\n",
      "La probabilidad de encontrar 2 perro/s infectados en un grupo de 250 perro/s es 0.10848496253867067\n",
      "La probabilidad de encontrar 3 perro/s infectados en un grupo de 250 perro/s es 0.21962669967022888\n",
      "La probabilidad de encontrar 4 perro/s infectados en un grupo de 250 perro/s es 0.27564936391541583\n",
      "La probabilidad de encontrar 5 perro/s infectados en un grupo de 250 perro/s es 0.21962669967022888\n",
      "La probabilidad de encontrar 6 perro/s infectados en un grupo de 250 perro/s es 0.10848496253867067\n",
      "La probabilidad de encontrar 7 perro/s infectados en un grupo de 250 perro/s es 0.03037329989609482\n",
      "La probabilidad de encontrar 8 perro/s infectados en un grupo de 250 perro/s es 0.0036903559373749465\n",
      "\n",
      "Si k es 500 :\n",
      "La probabilidad de encontrar 0 perro/s infectados en un grupo de 500 perro/s es 0.0\n",
      "La probabilidad de encontrar 1 perro/s infectados en un grupo de 500 perro/s es 0.0\n",
      "La probabilidad de encontrar 2 perro/s infectados en un grupo de 500 perro/s es 0.0\n",
      "La probabilidad de encontrar 3 perro/s infectados en un grupo de 500 perro/s es 0.0\n",
      "La probabilidad de encontrar 4 perro/s infectados en un grupo de 500 perro/s es 0.0\n",
      "La probabilidad de encontrar 5 perro/s infectados en un grupo de 500 perro/s es 0.0\n",
      "La probabilidad de encontrar 6 perro/s infectados en un grupo de 500 perro/s es 0.0\n",
      "La probabilidad de encontrar 7 perro/s infectados en un grupo de 500 perro/s es 0.0\n",
      "La probabilidad de encontrar 8 perro/s infectados en un grupo de 500 perro/s es 1.0\n",
      "\n"
     ]
    }
   ],
   "source": [
    "#Lista con todos los divisores de 500\n",
    "divisores500 = [1,2,4,5,10,20,25,50,100,125,250,500]\n",
    "#Diccionario que que tendra como llave un divisor de 500 y como valor, un arreglo con las probabilidades obtenidas tras realizar la distribucion hipergeometrica\n",
    "res = {}\n",
    "#Para cada divisor de 500, es decir, para cada valor de K, se obtienen las probabilidades de obtener de 0-8 perros infectados dados que se tiene un grupo de K perros\n",
    "for i in divisores500:\n",
    "    [M, n, N] = [500, 8, i]\n",
    "    rv = hypergeom(M, n, N)\n",
    "    x = np.arange(0, n+1)\n",
    "    prob = rv.pmf(x)\n",
    "    res[i] = prob\n",
    "for i in res:\n",
    "    j = 0\n",
    "    print('Si k es',i,':')\n",
    "    while j < 9:\n",
    "        print('La probabilidad de encontrar',j,'perro/s infectados en un grupo de',i,'perro/s es',res[i][j])\n",
    "        j+=1\n",
    "    print()"
   ]
  },
  {
   "cell_type": "code",
   "execution_count": 40,
   "metadata": {
    "scrolled": true
   },
   "outputs": [
    {
     "name": "stdout",
     "output_type": "stream",
     "text": [
      "Si K es 1 el valor teórico de la cantidad de pruebas es 508.0\n",
      "Si K es 2 el valor teórico de la cantidad de pruebas es 266.0\n",
      "Si K es 4 el valor teórico de la cantidad de pruebas es 157.0\n",
      "Si K es 5 el valor teórico de la cantidad de pruebas es 140.0\n",
      "Si K es 10 el valor teórico de la cantidad de pruebas es 130.0\n",
      "Si K es 20 el valor teórico de la cantidad de pruebas es 185.0\n",
      "Si K es 25 el valor teórico de la cantidad de pruebas es 220.0\n",
      "Si K es 50 el valor teórico de la cantidad de pruebas es 410.0\n",
      "Si K es 100 el valor teórico de la cantidad de pruebas es 405.0\n",
      "Si K es 125 el valor teórico de la cantidad de pruebas es 504.0\n",
      "Si K es 250 el valor teórico de la cantidad de pruebas es 502.0\n",
      "Si K es 500 el valor teórico de la cantidad de pruebas es 501.0\n",
      "\n",
      "El K que minimiza la cantidad pruebas realizadas es 10 con 130 pruebas realizadas\n"
     ]
    }
   ],
   "source": [
    "#Se define un diccionario con el valor esperado de perros infectados que tendraá un grupo de K perros\n",
    "valores_esperados = {1:0,2:0,4:0,5:0,10:0,20:0,25:0,50:0,100:0,125:0,250:0,500:0}\n",
    "k = -1\n",
    "cantidad_minima = 509\n",
    "for i in res:\n",
    "    j = 0\n",
    "    while j < 9:\n",
    "        valores_esperados[i] += res[i][j]*j\n",
    "        j+=1\n",
    "\n",
    "#Para cada valor de K se calcula la cantidad de pruebas que se deben realizar utilizando el valor esperado de perros infectados, en la parte de respuesta se explicaraá mejor este procedimiento\n",
    "for i in valores_esperados:\n",
    "    #Se redondea la cantidad de perros infectados a un entero, pues no pueden existir valores decimales si se trata de cantidad de perros\n",
    "    esperado = round(valores_esperados[i],0)\n",
    "    #Si el valor redondeado es 0, se arpoxima a 1, pues como máximo se revisan K*8 grupos\n",
    "    if esperado == 0.0:\n",
    "        c_pruebas = 8*i + 500/i\n",
    "        print('Si K es',i,'el valor teórico de la cantidad de pruebas es',c_pruebas)\n",
    "        if c_pruebas < cantidad_minima:\n",
    "            k = i\n",
    "            cantidad_minima = c_pruebas\n",
    "    else:\n",
    "        c_pruebas = (8/esperado)*i + 500/i\n",
    "        print('Si K es',i,'el valor teórico de la cantidad de pruebas es',c_pruebas)\n",
    "        if c_pruebas < cantidad_minima:\n",
    "            k = i\n",
    "            cantidad_minima = c_pruebas\n",
    "print()\n",
    "print('El K que minimiza la cantidad pruebas realizadas es', k,'con', int(cantidad_minima),'pruebas realizadas')"
   ]
  },
  {
   "cell_type": "markdown",
   "metadata": {},
   "source": [
    "### Respuesta Pregunta 3.a\n",
    "El K obtenido de manera teórica que minimiza la cantidad de pruebas que deben realizarse es 10, con aproximadamente 130 pruebas.\n",
    "\n",
    "Para obtener este valor se utilizó la **distribución hipergeométrica** siguiendo la siguiente fórmula:\n",
    "\n",
    "\\begin{equation*}P(X=x)   = \\frac{{E \\choose x}{N - E \\choose K-x}}{{N \\choose K}} \\end{equation*}\n",
    "\n",
    "Donde:\n",
    "+ N = Cantidad total de perros\n",
    "+ K = Grupo de K perros\n",
    "+ E = Cantidad de perros enfermos\n",
    "+ x = Número de éxitos deseados\n",
    "\n",
    "Por lo tanto, para cada valor de x, se obtuvieron las probabilidades con los distintos K. \n",
    "\n",
    "Continuando, se obtuvo el valor esperado de perros infectados por grupo para cada K. Sabiendo aproximadamente cuantos perros infectados habrán por cada grupo, se pudo calcular la cantidad de grupos que debían revisarse dividiendo simplemente la cantidad total de perros infectados por la cantidad de perros infectados por grupo. Sabiendo el K y la cantidad de grupos que se revisarán para ese K, se obtuvo finalmente la cantidad total de pruebas para los distintos multiplicando el K con la cantidad de grupos a revisar y sumando además la cantidad de pruebas iniciales. De esta forma se logró encontrar un K de manera teórica que minimiza la cantidad de pruebas."
   ]
  },
  {
   "cell_type": "markdown",
   "metadata": {},
   "source": [
    ">b) Encuentre **empíricamente** un valor de $K$ que minimice la cantidad de veces que se realiza la prueba y compare con el obtenido en b)"
   ]
  },
  {
   "cell_type": "markdown",
   "metadata": {},
   "source": [
    "### Código Pregunta 3.b"
   ]
  },
  {
   "cell_type": "code",
   "execution_count": 43,
   "metadata": {},
   "outputs": [
    {
     "name": "stdout",
     "output_type": "stream",
     "text": [
      "Si K es 1 la cantidad de pruebas realizadas es 508.0\n",
      "Si K es 2 la cantidad de pruebas realizadas es 266.0\n",
      "Si K es 4 la cantidad de pruebas realizadas es 157.0\n",
      "Si K es 5 la cantidad de pruebas realizadas es 140.0\n",
      "Si K es 10 la cantidad de pruebas realizadas es 130.0\n",
      "Si K es 20 la cantidad de pruebas realizadas es 185.0\n",
      "Si K es 25 la cantidad de pruebas realizadas es 195.0\n",
      "Si K es 50 la cantidad de pruebas realizadas es 360.0\n",
      "Si K es 100 la cantidad de pruebas realizadas es 405.0\n",
      "Si K es 125 la cantidad de pruebas realizadas es 504.0\n",
      "Si K es 250 la cantidad de pruebas realizadas es 502.0\n",
      "Si K es 500 la cantidad de pruebas realizadas es 501.0\n",
      "\n",
      "El K que minimiza la cantidad pruebas realizadas es 10 con 130 pruebas realizadas\n"
     ]
    }
   ],
   "source": [
    "import random\n",
    "\n",
    "i = 0\n",
    "#Lista que representa el grupo de 500 perros y guarda booleanos (True si el perro se encuentra infectado y False en caso contrario)\n",
    "perros = [False]*500\n",
    "#Lista que guarda la posicion de los perros infectados en la lista perros\n",
    "infectados = []\n",
    "#Lista que contiene los divisores de 500\n",
    "divisores500 = [1,2,4,5,10,20,25,50,100,125,250,500]\n",
    "#Variable que guardara la menor cantidad de veces que se realizo la prueba\n",
    "cantidad_minima = 501\n",
    "#Variable K del enunciado que minimiza la cantidad de veces que se debe realizar la prueba\n",
    "k = -1\n",
    "#Variable que almacena la cantidad de perros infectados\n",
    "perros_infectados = 8\n",
    "#Diccionario que guardara la cantidad de pruebas para cada divisor de 500\n",
    "pruebas = {}\n",
    "while i != perros_infectados:\n",
    "    infectado = random.randint(0,499)\n",
    "    if infectado not in infectados:\n",
    "        infectados.append(infectado)\n",
    "        i += 1\n",
    "i = 0\n",
    "\n",
    "for j in infectados:\n",
    "    perros[j] = True\n",
    "\n",
    "#Funcion que retorna una lista con 500/k tuplas de k elementos, representando los grupos de k perros.\n",
    "def grupos_perros(k,perros):\n",
    "    grupos = []\n",
    "    cont = 0\n",
    "    largo = len(perros) \n",
    "    while cont <= largo-1:\n",
    "        grupos.append(tuple(perros[cont:(cont+k)]))\n",
    "        cont += k\n",
    "    return grupos\n",
    "\n",
    "#Recibe la lista de perros y retorna cuantos grupos tienen al menos un infectado\n",
    "def cantidad_grupos_infectados(p):\n",
    "    cantidad = 0\n",
    "    for i in p:\n",
    "        if True in i:\n",
    "            cantidad += 1\n",
    "    return cantidad\n",
    "\n",
    "#Se busca el K que minimice la cantidad de pruebas realizadas\n",
    "for i in divisores500:\n",
    "    grupo = grupos_perros(i,perros)\n",
    "    cantidad_grupos = cantidad_grupos_infectados(grupo)\n",
    "    #Variable que guarda la cantidad de pruebas que se realizan. Su valor inicial es la cantidad de grupos pues primero se deben realizar las pruebas generales de los grupos para saber si luego se realiza las prueba a cada perro del grupo por separado\n",
    "    cantidad_pruebas = len(perros)/i\n",
    "    #Guarda la cantidad de grupos que fueron revisados\n",
    "    grupos_revisados = 0\n",
    "    for j in grupo:\n",
    "        if True in j:\n",
    "            grupos_revisados += 1\n",
    "            cantidad_pruebas += i\n",
    "        #Si ya se revisaron todos los grupos que tenian al menos un infectado, se finalizan las pruebas\n",
    "        if grupos_revisados == cantidad_grupos:\n",
    "            break\n",
    "    if cantidad_pruebas < cantidad_minima:\n",
    "        cantidad_minima = cantidad_pruebas\n",
    "        k = i\n",
    "    pruebas[i] = cantidad_pruebas\n",
    "\n",
    "\n",
    "for i in pruebas:\n",
    "    print('Si K es',i,'la cantidad de pruebas realizadas es',pruebas[i])\n",
    "print()    \n",
    "print('El K que minimiza la cantidad pruebas realizadas es', k,'con', int(cantidad_minima),'pruebas realizadas')\n"
   ]
  },
  {
   "cell_type": "markdown",
   "metadata": {},
   "source": [
    "### Respuesta Pregunta 3.b\n",
    "El K que minimiza la cantidad pruebas realizadas encontrado de manera empírica es 10 con 130 pruebas realizadas.\n",
    "\n",
    "Si se compara este valor con el obtenido en la pregunta a, se observa que se obtuvo tanto el mismo valor para K (10 perros por grupo) como para la cantidad de pruebas a realizar (130 pruebas). Por otro lado, para el resto de los valores de K, también se obtuvieron valores similares de cantidad de pruebas a realizar, lo que permite concluir que efectivamente el K que minimiza la cantidad de pruebas es 10.\n"
   ]
  },
  {
   "cell_type": "markdown",
   "metadata": {},
   "source": [
    ">c) Ahora usted conoce la cantidad de perros infectados, realice el mismo experimento que en b) y compare sus resultados. ¿A qué se debe esta diferencia? "
   ]
  },
  {
   "cell_type": "markdown",
   "metadata": {},
   "source": [
    "### Código Pregunta 3.c"
   ]
  },
  {
   "cell_type": "code",
   "execution_count": 2,
   "metadata": {},
   "outputs": [
    {
     "name": "stdout",
     "output_type": "stream",
     "text": [
      "Si K es 1 la cantidad de pruebas realizadas es 508.0\n",
      "Si K es 2 la cantidad de pruebas realizadas es 266.0\n",
      "Si K es 4 la cantidad de pruebas realizadas es 157.0\n",
      "Si K es 5 la cantidad de pruebas realizadas es 139.0\n",
      "Si K es 10 la cantidad de pruebas realizadas es 124.0\n",
      "Si K es 20 la cantidad de pruebas realizadas es 169.0\n",
      "Si K es 25 la cantidad de pruebas realizadas es 194.0\n",
      "Si K es 50 la cantidad de pruebas realizadas es 234.0\n",
      "Si K es 100 la cantidad de pruebas realizadas es 329.0\n",
      "Si K es 125 la cantidad de pruebas realizadas es 328.0\n",
      "Si K es 250 la cantidad de pruebas realizadas es 326.0\n",
      "Si K es 500 la cantidad de pruebas realizadas es 325.0\n",
      "\n",
      "El K que minimiza la cantidad pruebas realizadas sabiendo el el número de perros infectados es 10 con 124 pruebas realizadas\n"
     ]
    }
   ],
   "source": [
    "import random\n",
    "\n",
    "i = 0\n",
    "#Lista que representa el grupo de 500 perros y guarda booleanos (True si el perro se encuentra infectado y False en caso contrario)\n",
    "perros = [False]*500\n",
    "#Lista que guarda la posicion de los perros infectados en la lista perros\n",
    "infectados = []\n",
    "#Lista que contiene los divisores de 500.\n",
    "divisores500 = [1,2,4,5,10,20,25,50,100,125,250,500]\n",
    "#Variable que guardara la menor cantidad de veces que se realizo la prueba\n",
    "cantidad_minima = 501\n",
    "#Variable K del enunciado que minimiza la cantidad de veces que se debe realizar la prueba\n",
    "k = -1\n",
    "#Variable que almacena la cantidad de perros infectados\n",
    "perros_infectados = 8\n",
    "#Diccionario que guardara la cantidad de pruebas para cada divisor de 500\n",
    "pruebas = {}\n",
    "\n",
    "\n",
    "while i != perros_infectados:\n",
    "    infectado = random.randint(0,499)\n",
    "    if infectado not in infectados:\n",
    "        infectados.append(infectado)\n",
    "        i += 1\n",
    "i = 0\n",
    "\n",
    "for j in infectados:\n",
    "    perros[j] = True\n",
    "\n",
    "\n",
    "#Funcion que retorna una lista con 500/k tuplas de k elementos, representando los grupos de k perros.\n",
    "def grupos_perros(k,perros):\n",
    "    grupos = []\n",
    "    cont = 0\n",
    "    largo = len(perros) \n",
    "    while cont <= largo-1:\n",
    "        grupos.append(tuple(perros[cont:(cont+k)]))\n",
    "        cont += k\n",
    "    return grupos\n",
    "\n",
    "#Se busca el K que minimice la cantidad de pruebas realizadas\n",
    "for i in divisores500:\n",
    "    grupo = grupos_perros(i,perros)\n",
    "    #Variable que guarda la cantidad de pruebas que se realizan. Su valor inicial es la cantidad de grupos pues primero se deben realizar las pruebas generales de los grupos para saber si luego se realiza las prueba a cada perro del grupo por separado\n",
    "    cantidad_pruebas = len(perros)/i\n",
    "    #Variable que guarda la cantidad de infectados encontrados, para que una vez encontrados todos los perros infectados se detengan las pruabas\n",
    "    infectados_encontrados = 0\n",
    "    for j in grupo:\n",
    "        #Si se encontro la cantidad de perros infectados (conocida), no se realizan mas pruebas\n",
    "        if infectados_encontrados == perros_infectados:\n",
    "            break\n",
    "        #Si el grupo tiene un infectado, se realiza la prueba 1 a 1 de ese grupo\n",
    "        elif True in j:\n",
    "            for z in j:\n",
    "                cantidad_pruebas += 1\n",
    "                #Si el perro revisado se encuentra infectado, aumenta en 1 la cantidad de infectados encontrados\n",
    "                if z == True:\n",
    "                    infectados_encontrados += 1\n",
    "                    #Si se encontro la cantidad de perros infectados (conocida), no se realizan mas pruebas\n",
    "                    if infectados_encontrados == perros_infectados:\n",
    "                        break\n",
    "    #Se busca el K que minimiza la cantidad de pruebas\n",
    "    if cantidad_pruebas < cantidad_minima:\n",
    "        cantidad_minima = cantidad_pruebas\n",
    "        k = i\n",
    "    pruebas[i] = cantidad_pruebas\n",
    "\n",
    "for i in pruebas:\n",
    "    print('Si K es',i,'la cantidad de pruebas realizadas es',pruebas[i])\n",
    "print()  \n",
    "    \n",
    "print('El K que minimiza la cantidad pruebas realizadas sabiendo el el número de perros infectados es', k,'con', int(cantidad_minima),'pruebas realizadas')"
   ]
  },
  {
   "cell_type": "markdown",
   "metadata": {},
   "source": [
    "### Respuesta Pregunta 3.c\n",
    "Si se comparan los resultados obtenidos con los de la pregunta b, es posible notar que el K que minimiza la cantidad de pruebas que se deben realizar en ambos casos es 10, pero, si se conoce la cantidad de perros infectados, se deben realizar un número menor de pruebas (124 pruebas conociendo la cantidad de perros infectados y 130 sin conocerla). La razón por la que ocurre esto es debido a que si se conoce la cantidad de perros infectados, una vez encontrados todos, no es necesario seguir realizando pruebas. En el caso contrario, el investigador solo puede conocer cuantos son los grupos con perros infectados, lo que lo obliga a revisar siempre hasta el final cada grupo hasta terminar con todos los grupos cuya prueba dio positiva, es decir, si se tienen N grupos que se sabe que contiene al menos un infectado y K perros en cada grupo, el investigador deberá realizar K*N pruebas."
   ]
  },
  {
   "cell_type": "markdown",
   "metadata": {},
   "source": [
    "## Reglas del Juego y Comentarios \n",
    "\n",
    "+ Errores ortográficos, de redacción y oraciones ambiguas descontarán parte de su puntaje.\n",
    "+ Dudas solamente hasta el día 27 de Abril a las 15hrs.\n",
    "+ Dudas **principalmente** vía moodle, evite otro tipo de medio ya que su duda podría ser la de otro.\n",
    "+ Cada día de atraso descuenta 25 puntos de la nota final con un máximo de dos días de retraso (después es 0).\n",
    "+ La versión de R que se usará para revisar es 3.5.3\n",
    "+ La versión de Python que se usará para revisar es 3.6.8\n",
    "+ Use cualquier librería que estime conveniente, si requiere de instalación explicitarlo en el README (y bien explicitado).\n",
    "+ Código comentado para facilitar entendimiento.\n",
    "+ Sea formal y claro con su respuesta, **explique su procedimiento y luego responda.** \n",
    "+ Defina bien las secciones de su notebook, el orden siempre es bueno :) [Tips para usar Markdown](https://github.com/adam-p/markdown-here/wiki/Markdown-Cheatsheet)"
   ]
  }
 ],
 "metadata": {
  "kernelspec": {
   "display_name": "Python 3",
   "language": "python",
   "name": "python3"
  },
  "language_info": {
   "codemirror_mode": {
    "name": "ipython",
    "version": 3
   },
   "file_extension": ".py",
   "mimetype": "text/x-python",
   "name": "python",
   "nbconvert_exporter": "python",
   "pygments_lexer": "ipython3",
   "version": "3.7.1"
  }
 },
 "nbformat": 4,
 "nbformat_minor": 2
}
